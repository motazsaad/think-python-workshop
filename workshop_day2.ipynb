{
  "nbformat": 4,
  "nbformat_minor": 0,
  "metadata": {
    "colab": {
      "name": "workshop_day2.ipynb",
      "provenance": []
    },
    "kernelspec": {
      "name": "python3",
      "display_name": "Python 3"
    },
    "language_info": {
      "name": "python"
    }
  },
  "cells": [
    {
      "cell_type": "markdown",
      "metadata": {
        "id": "hx38iZKl_yLU"
      },
      "source": [
        "# Loops and iterations \n",
        "\n",
        "while and for keywords "
      ]
    },
    {
      "cell_type": "markdown",
      "metadata": {
        "id": "yasITN0c_-uL"
      },
      "source": [
        "# while "
      ]
    },
    {
      "cell_type": "code",
      "metadata": {
        "colab": {
          "base_uri": "https://localhost:8080/"
        },
        "id": "FlE9NC-D_93r",
        "outputId": "704ad85e-8ac1-4bd9-cc69-537aa1d25dc2"
      },
      "source": [
        "# write a program to print hello 10 times \n",
        "n = 0 \n",
        "while n < 10:\n",
        "  print('hello')\n",
        "  n += 1\n",
        "  #n = n + 1 # n++ \n"
      ],
      "execution_count": null,
      "outputs": [
        {
          "output_type": "stream",
          "text": [
            "hello\n",
            "hello\n",
            "hello\n",
            "hello\n",
            "hello\n",
            "hello\n",
            "hello\n",
            "hello\n",
            "hello\n",
            "hello\n"
          ],
          "name": "stdout"
        }
      ]
    },
    {
      "cell_type": "code",
      "metadata": {
        "colab": {
          "base_uri": "https://localhost:8080/"
        },
        "id": "Ba433bIAAm8N",
        "outputId": "281a9d8f-370a-4cdc-c173-034ae3374abb"
      },
      "source": [
        "# wirte a cound down program \n",
        "n = int(input('please enter a count down: ').strip())\n",
        "while n > 0:\n",
        "  print(n)\n",
        "  n -= 1 \n",
        "print('done')"
      ],
      "execution_count": null,
      "outputs": [
        {
          "output_type": "stream",
          "text": [
            "please enter a count down: 7\n",
            "7\n",
            "6\n",
            "5\n",
            "4\n",
            "3\n",
            "2\n",
            "1\n",
            "done\n"
          ],
          "name": "stdout"
        }
      ]
    },
    {
      "cell_type": "markdown",
      "metadata": {
        "id": "jKJrALHFBnTz"
      },
      "source": [
        "# strip function"
      ]
    },
    {
      "cell_type": "code",
      "metadata": {
        "colab": {
          "base_uri": "https://localhost:8080/",
          "height": 35
        },
        "id": "mFPiQOVQBpw7",
        "outputId": "53bccf05-8ca3-466f-fac0-c111e6f7eb13"
      },
      "source": [
        "'\\thello '.strip()"
      ],
      "execution_count": null,
      "outputs": [
        {
          "output_type": "execute_result",
          "data": {
            "application/vnd.google.colaboratory.intrinsic+json": {
              "type": "string"
            },
            "text/plain": [
              "'hello'"
            ]
          },
          "metadata": {
            "tags": []
          },
          "execution_count": 11
        }
      ]
    },
    {
      "cell_type": "markdown",
      "metadata": {
        "id": "rI6_9hhuBWaN"
      },
      "source": [
        "# for "
      ]
    },
    {
      "cell_type": "markdown",
      "metadata": {
        "id": "eej0KIuuCR3a"
      },
      "source": [
        "## loop using iteration variable "
      ]
    },
    {
      "cell_type": "code",
      "metadata": {
        "colab": {
          "base_uri": "https://localhost:8080/"
        },
        "id": "OOr9gmZw_wJ6",
        "outputId": "4eeecdcc-7885-4a78-9f7a-a1bcb7a5530d"
      },
      "source": [
        "l1 = [1, 4, 0, 2, 5]\n",
        "for number in l1:\n",
        "  print(number)"
      ],
      "execution_count": null,
      "outputs": [
        {
          "output_type": "stream",
          "text": [
            "1\n",
            "4\n",
            "0\n",
            "2\n",
            "5\n"
          ],
          "name": "stdout"
        }
      ]
    },
    {
      "cell_type": "markdown",
      "metadata": {
        "id": "rgiFw2EZCs5T"
      },
      "source": [
        "# loop using index "
      ]
    },
    {
      "cell_type": "code",
      "metadata": {
        "colab": {
          "base_uri": "https://localhost:8080/"
        },
        "id": "PoqAkak7DKvE",
        "outputId": "9a4e7322-fe71-4b3d-d54d-ba5cb7c6c97e"
      },
      "source": [
        "range(5)"
      ],
      "execution_count": null,
      "outputs": [
        {
          "output_type": "execute_result",
          "data": {
            "text/plain": [
              "range(0, 5)"
            ]
          },
          "metadata": {
            "tags": []
          },
          "execution_count": 15
        }
      ]
    },
    {
      "cell_type": "code",
      "metadata": {
        "colab": {
          "base_uri": "https://localhost:8080/"
        },
        "id": "3v-ounP8DMqb",
        "outputId": "57e5d747-0017-423b-c5af-9a9cbb353acf"
      },
      "source": [
        "list(range(5))"
      ],
      "execution_count": null,
      "outputs": [
        {
          "output_type": "execute_result",
          "data": {
            "text/plain": [
              "[0, 1, 2, 3, 4]"
            ]
          },
          "metadata": {
            "tags": []
          },
          "execution_count": 16
        }
      ]
    },
    {
      "cell_type": "code",
      "metadata": {
        "colab": {
          "base_uri": "https://localhost:8080/"
        },
        "id": "9iKKhzGSDRED",
        "outputId": "ca550f02-65fb-4a44-bab1-fc9eefaa43eb"
      },
      "source": [
        "list(range(2, 10, 3))"
      ],
      "execution_count": null,
      "outputs": [
        {
          "output_type": "execute_result",
          "data": {
            "text/plain": [
              "[2, 5, 8]"
            ]
          },
          "metadata": {
            "tags": []
          },
          "execution_count": 17
        }
      ]
    },
    {
      "cell_type": "code",
      "metadata": {
        "colab": {
          "base_uri": "https://localhost:8080/"
        },
        "id": "qxemugOHD0nW",
        "outputId": "5a844236-32c3-46ff-991d-b2d8002c5eea"
      },
      "source": [
        "len(l1)"
      ],
      "execution_count": null,
      "outputs": [
        {
          "output_type": "execute_result",
          "data": {
            "text/plain": [
              "5"
            ]
          },
          "metadata": {
            "tags": []
          },
          "execution_count": 20
        }
      ]
    },
    {
      "cell_type": "code",
      "metadata": {
        "colab": {
          "base_uri": "https://localhost:8080/"
        },
        "id": "beSunf3OC9Ka",
        "outputId": "fd087865-ef7f-4735-9b62-fb38cd1dcf17"
      },
      "source": [
        "for i in range(len(l1)):\n",
        "  print(l1[i])\n"
      ],
      "execution_count": null,
      "outputs": [
        {
          "output_type": "stream",
          "text": [
            "1\n",
            "4\n",
            "0\n",
            "2\n",
            "5\n"
          ],
          "name": "stdout"
        }
      ]
    },
    {
      "cell_type": "code",
      "metadata": {
        "colab": {
          "base_uri": "https://localhost:8080/"
        },
        "id": "vRd3i9iIECyD",
        "outputId": "9fa98cde-9a47-4959-d48c-e99163b7f18c"
      },
      "source": [
        "# write a program to sum a list \n",
        "total = 0 \n",
        "for num in l1:\n",
        "  total += num \n",
        "\n",
        "print(total)"
      ],
      "execution_count": null,
      "outputs": [
        {
          "output_type": "stream",
          "text": [
            "12\n"
          ],
          "name": "stdout"
        }
      ]
    },
    {
      "cell_type": "code",
      "metadata": {
        "colab": {
          "base_uri": "https://localhost:8080/"
        },
        "id": "T7Cy6ZxDEO_r",
        "outputId": "a8e4f3ec-94f5-4c55-ce6a-f01d7c4d86cc"
      },
      "source": [
        "# write a program to add 2 to each elemt of the list \n",
        "print('before:', l1)\n",
        "for i in range(len(l1)):\n",
        "  l1[i] += 2 \n",
        "\n",
        "print('after:', l1)"
      ],
      "execution_count": null,
      "outputs": [
        {
          "output_type": "stream",
          "text": [
            "before: [1, 4, 0, 2, 5]\n",
            "after: [3, 6, 2, 4, 7]\n"
          ],
          "name": "stdout"
        }
      ]
    },
    {
      "cell_type": "code",
      "metadata": {
        "colab": {
          "base_uri": "https://localhost:8080/"
        },
        "id": "HOeeE_K-E3UD",
        "outputId": "c8381757-eff6-4ead-e4fe-d26bbc2a69c7"
      },
      "source": [
        "print(l1)"
      ],
      "execution_count": null,
      "outputs": [
        {
          "output_type": "stream",
          "text": [
            "[3, 6, 2, 4, 7]\n"
          ],
          "name": "stdout"
        }
      ]
    },
    {
      "cell_type": "code",
      "metadata": {
        "colab": {
          "base_uri": "https://localhost:8080/"
        },
        "id": "OSTFQqe3E45j",
        "outputId": "7ae43289-f6bb-45fa-f54d-7f4e9dee57b4"
      },
      "source": [
        "print(*l1)"
      ],
      "execution_count": null,
      "outputs": [
        {
          "output_type": "stream",
          "text": [
            "3 6 2 4 7\n"
          ],
          "name": "stdout"
        }
      ]
    },
    {
      "cell_type": "code",
      "metadata": {
        "colab": {
          "base_uri": "https://localhost:8080/"
        },
        "id": "h396i58mE_DF",
        "outputId": "82eda5f1-be97-4864-fde7-34de36f24ad0"
      },
      "source": [
        "for num in l1:\n",
        "  print(num, end=' ')"
      ],
      "execution_count": null,
      "outputs": [
        {
          "output_type": "stream",
          "text": [
            "3 6 2 4 7 "
          ],
          "name": "stdout"
        }
      ]
    },
    {
      "cell_type": "code",
      "metadata": {
        "colab": {
          "base_uri": "https://localhost:8080/"
        },
        "id": "m9zJr3gdFTkh",
        "outputId": "ca27d9c5-cd95-4727-9bb1-d058db395024"
      },
      "source": [
        "len(l1)"
      ],
      "execution_count": null,
      "outputs": [
        {
          "output_type": "execute_result",
          "data": {
            "text/plain": [
              "5"
            ]
          },
          "metadata": {
            "tags": []
          },
          "execution_count": 30
        }
      ]
    },
    {
      "cell_type": "code",
      "metadata": {
        "colab": {
          "base_uri": "https://localhost:8080/"
        },
        "id": "ZCtK13YEFYc3",
        "outputId": "eeec0a8c-b77c-4b51-c8e2-d0e30a00818a"
      },
      "source": [
        "l1"
      ],
      "execution_count": null,
      "outputs": [
        {
          "output_type": "execute_result",
          "data": {
            "text/plain": [
              "[3, 6, 2, 4, 7]"
            ]
          },
          "metadata": {
            "tags": []
          },
          "execution_count": 31
        }
      ]
    },
    {
      "cell_type": "code",
      "metadata": {
        "id": "cYLfPoauFVh7"
      },
      "source": [
        "l1.append(9)"
      ],
      "execution_count": null,
      "outputs": []
    },
    {
      "cell_type": "code",
      "metadata": {
        "colab": {
          "base_uri": "https://localhost:8080/"
        },
        "id": "eNaoOx3WFbtU",
        "outputId": "70c1d3ec-abc1-4134-f866-dcc60f1948de"
      },
      "source": [
        "l1"
      ],
      "execution_count": null,
      "outputs": [
        {
          "output_type": "execute_result",
          "data": {
            "text/plain": [
              "[3, 6, 2, 4, 7, 9]"
            ]
          },
          "metadata": {
            "tags": []
          },
          "execution_count": 33
        }
      ]
    },
    {
      "cell_type": "code",
      "metadata": {
        "colab": {
          "base_uri": "https://localhost:8080/"
        },
        "id": "ZH8OWCTYFdb8",
        "outputId": "e7580674-cd1f-47ba-deca-b06a5dcd928d"
      },
      "source": [
        "len(l1)"
      ],
      "execution_count": null,
      "outputs": [
        {
          "output_type": "execute_result",
          "data": {
            "text/plain": [
              "6"
            ]
          },
          "metadata": {
            "tags": []
          },
          "execution_count": 34
        }
      ]
    },
    {
      "cell_type": "code",
      "metadata": {
        "colab": {
          "base_uri": "https://localhost:8080/"
        },
        "id": "xUx_LAQDFfpM",
        "outputId": "8741433f-20f9-4df0-aed1-d00794c6994b"
      },
      "source": [
        "for i in range(len(l1)):\n",
        "  print(l1[i])"
      ],
      "execution_count": null,
      "outputs": [
        {
          "output_type": "stream",
          "text": [
            "3\n",
            "6\n",
            "2\n",
            "4\n",
            "7\n",
            "9\n"
          ],
          "name": "stdout"
        }
      ]
    },
    {
      "cell_type": "code",
      "metadata": {
        "colab": {
          "base_uri": "https://localhost:8080/"
        },
        "id": "BEAihtzWF1Fs",
        "outputId": "465adaf2-c136-4264-a928-617c99994a70"
      },
      "source": [
        "list(range(6))"
      ],
      "execution_count": null,
      "outputs": [
        {
          "output_type": "execute_result",
          "data": {
            "text/plain": [
              "[0, 1, 2, 3, 4, 5]"
            ]
          },
          "metadata": {
            "tags": []
          },
          "execution_count": 37
        }
      ]
    },
    {
      "cell_type": "code",
      "metadata": {
        "colab": {
          "base_uri": "https://localhost:8080/"
        },
        "id": "rfWbgZmaGQfe",
        "outputId": "08687dcf-f1b8-47bb-cb0e-ff9b36e8f532"
      },
      "source": [
        "l1"
      ],
      "execution_count": null,
      "outputs": [
        {
          "output_type": "execute_result",
          "data": {
            "text/plain": [
              "[3, 6, 2, 4, 7, 9]"
            ]
          },
          "metadata": {
            "tags": []
          },
          "execution_count": 39
        }
      ]
    },
    {
      "cell_type": "code",
      "metadata": {
        "colab": {
          "base_uri": "https://localhost:8080/"
        },
        "id": "Hm3KI4hhF7_F",
        "outputId": "3c6250de-a6f7-4762-b041-105233fa8d78"
      },
      "source": [
        "l1[1]"
      ],
      "execution_count": null,
      "outputs": [
        {
          "output_type": "execute_result",
          "data": {
            "text/plain": [
              "6"
            ]
          },
          "metadata": {
            "tags": []
          },
          "execution_count": 42
        }
      ]
    }
  ]
}