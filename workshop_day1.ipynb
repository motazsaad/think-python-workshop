{
  "nbformat": 4,
  "nbformat_minor": 0,
  "metadata": {
    "colab": {
      "name": "workshop_day1.ipynb",
      "provenance": [],
      "collapsed_sections": []
    },
    "kernelspec": {
      "name": "python3",
      "display_name": "Python 3"
    },
    "language_info": {
      "name": "python"
    }
  },
  "cells": [
    {
      "cell_type": "markdown",
      "metadata": {
        "id": "g14m19nr1ids"
      },
      "source": [
        "# Python Variable \n",
        "\n",
        "\n",
        "int, float, str, Bool "
      ]
    },
    {
      "cell_type": "code",
      "metadata": {
        "colab": {
          "base_uri": "https://localhost:8080/"
        },
        "id": "qSOLtqi-1mub",
        "outputId": "74076a07-04fa-4e40-e5cb-bd510b998c5e"
      },
      "source": [
        "x = 10 \n",
        "print(x)\n",
        "print(type(x))"
      ],
      "execution_count": null,
      "outputs": [
        {
          "output_type": "stream",
          "text": [
            "10\n",
            "<class 'int'>\n"
          ],
          "name": "stdout"
        }
      ]
    },
    {
      "cell_type": "code",
      "metadata": {
        "colab": {
          "base_uri": "https://localhost:8080/"
        },
        "id": "TeB17yNf2ivO",
        "outputId": "eb3ed079-743a-446e-ff45-fd3ef4c6a977"
      },
      "source": [
        "y = 10.7\n",
        "print(y)\n",
        "print(type(y))"
      ],
      "execution_count": null,
      "outputs": [
        {
          "output_type": "stream",
          "text": [
            "10.7\n",
            "<class 'float'>\n"
          ],
          "name": "stdout"
        }
      ]
    },
    {
      "cell_type": "code",
      "metadata": {
        "colab": {
          "base_uri": "https://localhost:8080/"
        },
        "id": "vEgN4opL2rUD",
        "outputId": "057841a2-717a-4627-b911-b39c6a9d44de"
      },
      "source": [
        "name  = 'Ahmed'\n",
        "print(type(name))"
      ],
      "execution_count": null,
      "outputs": [
        {
          "output_type": "stream",
          "text": [
            "<class 'str'>\n"
          ],
          "name": "stdout"
        }
      ]
    },
    {
      "cell_type": "code",
      "metadata": {
        "id": "C_bLAJr-23L-"
      },
      "source": [
        "x = 100 # bad name \n",
        "car_speed = 100 # good name "
      ],
      "execution_count": null,
      "outputs": []
    },
    {
      "cell_type": "markdown",
      "metadata": {
        "id": "QAwgglJg3oS7"
      },
      "source": [
        "# Conditional statement "
      ]
    },
    {
      "cell_type": "code",
      "metadata": {
        "colab": {
          "base_uri": "https://localhost:8080/"
        },
        "id": "98HS9hUe3nh8",
        "outputId": "2530e22a-ec10-4ef9-f11a-166d5995dd60"
      },
      "source": [
        "x = 5\n",
        "if x > 2:\n",
        "  print('x is greather than 2')\n",
        "  print('x is large')\n",
        "print('done')"
      ],
      "execution_count": null,
      "outputs": [
        {
          "output_type": "stream",
          "text": [
            "x is greather than 2\n",
            "x is large\n",
            "done\n"
          ],
          "name": "stdout"
        }
      ]
    },
    {
      "cell_type": "code",
      "metadata": {
        "colab": {
          "base_uri": "https://localhost:8080/"
        },
        "id": "-MoR17QL4Qai",
        "outputId": "3bc0a0ba-a3e5-4706-ded0-eb313cda7d20"
      },
      "source": [
        "x = 5\n",
        "if x < 2:\n",
        "  print('x is greather than 2')\n",
        "  print('x is large')\n",
        "print('done')"
      ],
      "execution_count": null,
      "outputs": [
        {
          "output_type": "stream",
          "text": [
            "done\n"
          ],
          "name": "stdout"
        }
      ]
    },
    {
      "cell_type": "code",
      "metadata": {
        "colab": {
          "base_uri": "https://localhost:8080/"
        },
        "id": "z1aiTsYc4Xtr",
        "outputId": "24ebcd9c-01e5-428b-cf89-9e09b1c7c1a0"
      },
      "source": [
        "if x < 2:\n",
        "  print('x is greather than 2')\n",
        "  print('x is large')\n",
        "else: # x >= 2 \n",
        "  print('the value of x', x)\n",
        "print('done')"
      ],
      "execution_count": null,
      "outputs": [
        {
          "output_type": "stream",
          "text": [
            "the value of x 5\n",
            "done\n"
          ],
          "name": "stdout"
        }
      ]
    },
    {
      "cell_type": "code",
      "metadata": {
        "colab": {
          "base_uri": "https://localhost:8080/"
        },
        "id": "bWJv5Mxl4yX2",
        "outputId": "99f152df-5721-4cf4-9d3a-3f3ae82001d1"
      },
      "source": [
        "x = -5\n",
        "if x > 2:\n",
        "  print('x is large')\n",
        "elif x < 0:\n",
        "  print('x is negative')\n",
        "else:\n",
        "  print('x is zero')\n",
        "print('done')"
      ],
      "execution_count": null,
      "outputs": [
        {
          "output_type": "stream",
          "text": [
            "x is negative\n",
            "done\n"
          ],
          "name": "stdout"
        }
      ]
    },
    {
      "cell_type": "code",
      "metadata": {
        "colab": {
          "base_uri": "https://localhost:8080/"
        },
        "id": "c9j4QNhA5fe0",
        "outputId": "99d2d640-d613-4c48-d8a2-231966e78220"
      },
      "source": [
        "x = int(input('enter a number: '))\n",
        "if x > 10 and x < 20:\n",
        "  print('x is between 10 and 20')\n",
        "else:\n",
        "  print('out of range 10-20')"
      ],
      "execution_count": null,
      "outputs": [
        {
          "output_type": "stream",
          "text": [
            "enter a number: 15\n",
            "x is between 10 and 20\n"
          ],
          "name": "stdout"
        }
      ]
    },
    {
      "cell_type": "code",
      "metadata": {
        "colab": {
          "base_uri": "https://localhost:8080/"
        },
        "id": "YthvX9o-58ck",
        "outputId": "0a58cc4b-344f-4761-c7bc-24eb76963988"
      },
      "source": [
        "x = int(input('enter a number: '))\n",
        "if x == 10 or x == 20:\n",
        "  print('x is either 10 and 20')\n",
        "else:\n",
        "  print('not 10 nor 20')"
      ],
      "execution_count": null,
      "outputs": [
        {
          "output_type": "stream",
          "text": [
            "enter a number: 15\n",
            "not 10 nor 20\n"
          ],
          "name": "stdout"
        }
      ]
    },
    {
      "cell_type": "markdown",
      "metadata": {
        "id": "SpyrIeHT68q0"
      },
      "source": [
        "# Exceptions "
      ]
    },
    {
      "cell_type": "code",
      "metadata": {
        "colab": {
          "base_uri": "https://localhost:8080/",
          "height": 197
        },
        "id": "RE1T09kT7AOF",
        "outputId": "1a238508-6963-49d3-dd38-889194cb6649"
      },
      "source": [
        "x = int(input('enter a number: '))\n",
        "print(x)"
      ],
      "execution_count": null,
      "outputs": [
        {
          "output_type": "stream",
          "text": [
            "enter a number: five\n"
          ],
          "name": "stdout"
        },
        {
          "output_type": "error",
          "ename": "ValueError",
          "evalue": "ignored",
          "traceback": [
            "\u001b[0;31m---------------------------------------------------------------------------\u001b[0m",
            "\u001b[0;31mValueError\u001b[0m                                Traceback (most recent call last)",
            "\u001b[0;32m<ipython-input-24-2b91f78ad47f>\u001b[0m in \u001b[0;36m<module>\u001b[0;34m()\u001b[0m\n\u001b[0;32m----> 1\u001b[0;31m \u001b[0mx\u001b[0m \u001b[0;34m=\u001b[0m \u001b[0mint\u001b[0m\u001b[0;34m(\u001b[0m\u001b[0minput\u001b[0m\u001b[0;34m(\u001b[0m\u001b[0;34m'enter a number: '\u001b[0m\u001b[0;34m)\u001b[0m\u001b[0;34m)\u001b[0m\u001b[0;34m\u001b[0m\u001b[0;34m\u001b[0m\u001b[0m\n\u001b[0m\u001b[1;32m      2\u001b[0m \u001b[0mprint\u001b[0m\u001b[0;34m(\u001b[0m\u001b[0mx\u001b[0m\u001b[0;34m)\u001b[0m\u001b[0;34m\u001b[0m\u001b[0;34m\u001b[0m\u001b[0m\n",
            "\u001b[0;31mValueError\u001b[0m: invalid literal for int() with base 10: 'five'"
          ]
        }
      ]
    },
    {
      "cell_type": "code",
      "metadata": {
        "colab": {
          "base_uri": "https://localhost:8080/"
        },
        "id": "xPqjM2aN7MA8",
        "outputId": "c684dc76-b135-4855-9833-a17a89e616b8"
      },
      "source": [
        "try:\n",
        "  x = int(input('enter a number: '))\n",
        "  y = int(input('enter a number: '))\n",
        "  print(x / y)\n",
        "except ValueError:\n",
        "  print('please enter a numeric value')\n",
        "except ZeroDivisionError:\n",
        "  print('can not divide by zero')\n",
        "\n",
        "print('done')"
      ],
      "execution_count": null,
      "outputs": [
        {
          "output_type": "stream",
          "text": [
            "enter a number: 10\n",
            "enter a number: 5\n",
            "2.0\n",
            "done\n"
          ],
          "name": "stdout"
        }
      ]
    },
    {
      "cell_type": "code",
      "metadata": {
        "colab": {
          "base_uri": "https://localhost:8080/"
        },
        "id": "5yP9PhzO8MAF",
        "outputId": "d85db520-eb1f-49a0-f205-48ae2de3f7aa"
      },
      "source": [
        "try:\n",
        "  x = int(input('enter a number: '))\n",
        "  y = int(input('enter a number: '))\n",
        "  print(x / y)\n",
        "except ValueError:\n",
        "  print('please enter a numeric value')\n",
        "except ZeroDivisionError:\n",
        "  print('can not divide by zero')\n",
        "\n",
        "print('done')"
      ],
      "execution_count": null,
      "outputs": [
        {
          "output_type": "stream",
          "text": [
            "enter a number: 10\n",
            "enter a number: 0\n",
            "can not divide by zero\n",
            "done\n"
          ],
          "name": "stdout"
        }
      ]
    },
    {
      "cell_type": "markdown",
      "metadata": {
        "id": "m7zr_fKy8bJz"
      },
      "source": [
        "# Functions "
      ]
    },
    {
      "cell_type": "code",
      "metadata": {
        "id": "78LfhrD48czF"
      },
      "source": [
        "def increase_car_speed():\n",
        "  print('increase car speed to 100')"
      ],
      "execution_count": null,
      "outputs": []
    },
    {
      "cell_type": "code",
      "metadata": {
        "colab": {
          "base_uri": "https://localhost:8080/"
        },
        "id": "Ud4s-YHV85R9",
        "outputId": "ba5c9996-4c48-45c6-ea34-8ec2317582bd"
      },
      "source": [
        "increase_car_speed()"
      ],
      "execution_count": null,
      "outputs": [
        {
          "output_type": "stream",
          "text": [
            "increase car speed to 100\n"
          ],
          "name": "stdout"
        }
      ]
    },
    {
      "cell_type": "code",
      "metadata": {
        "id": "Kq4x7YKQ89BG"
      },
      "source": [
        "def sum_values(a, b): # best practice \n",
        "  return a + b"
      ],
      "execution_count": null,
      "outputs": []
    },
    {
      "cell_type": "code",
      "metadata": {
        "colab": {
          "base_uri": "https://localhost:8080/"
        },
        "id": "oBMW9O369OI8",
        "outputId": "81cb0fc3-beb2-4409-debb-0829b2363882"
      },
      "source": [
        "print(sum_values(2, 3))"
      ],
      "execution_count": null,
      "outputs": [
        {
          "output_type": "stream",
          "text": [
            "5\n"
          ],
          "name": "stdout"
        }
      ]
    },
    {
      "cell_type": "code",
      "metadata": {
        "colab": {
          "base_uri": "https://localhost:8080/"
        },
        "id": "fxqPcgO29XsW",
        "outputId": "bd1a0368-aa8f-4b6c-bfe4-e3472079d405"
      },
      "source": [
        "5 + sum_values(3,4)"
      ],
      "execution_count": null,
      "outputs": [
        {
          "output_type": "execute_result",
          "data": {
            "text/plain": [
              "12"
            ]
          },
          "metadata": {
            "tags": []
          },
          "execution_count": 33
        }
      ]
    },
    {
      "cell_type": "code",
      "metadata": {
        "id": "J7X08QBU9gnU"
      },
      "source": [
        "# bad practice: make I/O inside the fucntion \n",
        "\n",
        "def sum_values_v2():\n",
        "  a = int(input('enter a: '))\n",
        "  b = int(input('enter b: '))\n",
        "  print(a + b)"
      ],
      "execution_count": null,
      "outputs": []
    },
    {
      "cell_type": "code",
      "metadata": {
        "colab": {
          "base_uri": "https://localhost:8080/"
        },
        "id": "wpJGTCI192eW",
        "outputId": "ba0a786c-c5a8-4f0a-ced8-6a9eab96fc91"
      },
      "source": [
        "sum_values_v2()"
      ],
      "execution_count": null,
      "outputs": [
        {
          "output_type": "stream",
          "text": [
            "enter a: 3\n",
            "enter b: 4\n",
            "7\n"
          ],
          "name": "stdout"
        }
      ]
    },
    {
      "cell_type": "code",
      "metadata": {
        "colab": {
          "base_uri": "https://localhost:8080/",
          "height": 214
        },
        "id": "Tu3RTDrN97Qd",
        "outputId": "769eebef-d3e0-422e-ae29-69b76b2ace65"
      },
      "source": [
        "sum_values_v2() + 5"
      ],
      "execution_count": null,
      "outputs": [
        {
          "output_type": "stream",
          "text": [
            "enter a: 3\n",
            "enter b: 2\n",
            "5\n"
          ],
          "name": "stdout"
        },
        {
          "output_type": "error",
          "ename": "TypeError",
          "evalue": "ignored",
          "traceback": [
            "\u001b[0;31m---------------------------------------------------------------------------\u001b[0m",
            "\u001b[0;31mTypeError\u001b[0m                                 Traceback (most recent call last)",
            "\u001b[0;32m<ipython-input-37-f27c1bb7e1df>\u001b[0m in \u001b[0;36m<module>\u001b[0;34m()\u001b[0m\n\u001b[0;32m----> 1\u001b[0;31m \u001b[0msum_values_v2\u001b[0m\u001b[0;34m(\u001b[0m\u001b[0;34m)\u001b[0m \u001b[0;34m+\u001b[0m \u001b[0;36m5\u001b[0m\u001b[0;34m\u001b[0m\u001b[0;34m\u001b[0m\u001b[0m\n\u001b[0m",
            "\u001b[0;31mTypeError\u001b[0m: unsupported operand type(s) for +: 'NoneType' and 'int'"
          ]
        }
      ]
    },
    {
      "cell_type": "markdown",
      "metadata": {
        "id": "DfBiT4n--dSj"
      },
      "source": [
        "# errors in python "
      ]
    },
    {
      "cell_type": "code",
      "metadata": {
        "colab": {
          "base_uri": "https://localhost:8080/",
          "height": 163
        },
        "id": "MJk5hbA0-f7H",
        "outputId": "ab001611-964a-4652-fac9-95c7ad6ba850"
      },
      "source": [
        "print(color)"
      ],
      "execution_count": null,
      "outputs": [
        {
          "output_type": "error",
          "ename": "NameError",
          "evalue": "ignored",
          "traceback": [
            "\u001b[0;31m---------------------------------------------------------------------------\u001b[0m",
            "\u001b[0;31mNameError\u001b[0m                                 Traceback (most recent call last)",
            "\u001b[0;32m<ipython-input-38-32bd99f60afb>\u001b[0m in \u001b[0;36m<module>\u001b[0;34m()\u001b[0m\n\u001b[0;32m----> 1\u001b[0;31m \u001b[0mprint\u001b[0m\u001b[0;34m(\u001b[0m\u001b[0mcolor\u001b[0m\u001b[0;34m)\u001b[0m\u001b[0;34m\u001b[0m\u001b[0;34m\u001b[0m\u001b[0m\n\u001b[0m",
            "\u001b[0;31mNameError\u001b[0m: name 'color' is not defined"
          ]
        }
      ]
    },
    {
      "cell_type": "code",
      "metadata": {
        "colab": {
          "base_uri": "https://localhost:8080/",
          "height": 163
        },
        "id": "BxxUvTjl-wmm",
        "outputId": "25cb753a-8a18-4fad-f579-b2823c8444b1"
      },
      "source": [
        "int('abc')"
      ],
      "execution_count": null,
      "outputs": [
        {
          "output_type": "error",
          "ename": "ValueError",
          "evalue": "ignored",
          "traceback": [
            "\u001b[0;31m---------------------------------------------------------------------------\u001b[0m",
            "\u001b[0;31mValueError\u001b[0m                                Traceback (most recent call last)",
            "\u001b[0;32m<ipython-input-40-1e11daa61250>\u001b[0m in \u001b[0;36m<module>\u001b[0;34m()\u001b[0m\n\u001b[0;32m----> 1\u001b[0;31m \u001b[0mint\u001b[0m\u001b[0;34m(\u001b[0m\u001b[0;34m'abc'\u001b[0m\u001b[0;34m)\u001b[0m\u001b[0;34m\u001b[0m\u001b[0;34m\u001b[0m\u001b[0m\n\u001b[0m",
            "\u001b[0;31mValueError\u001b[0m: invalid literal for int() with base 10: 'abc'"
          ]
        }
      ]
    },
    {
      "cell_type": "code",
      "metadata": {
        "colab": {
          "base_uri": "https://localhost:8080/"
        },
        "id": "hyAm_TYM_ATk",
        "outputId": "025f2ad8-4fa5-42ce-bff3-55ab9195f4c4"
      },
      "source": [
        "x = 10 \n",
        "print(x)\n",
        "print(type(x))\n",
        "x = 2.5\n",
        "print(x)\n",
        "print(type(x))"
      ],
      "execution_count": null,
      "outputs": [
        {
          "output_type": "stream",
          "text": [
            "10\n",
            "<class 'int'>\n",
            "2.5\n",
            "<class 'float'>\n"
          ],
          "name": "stdout"
        }
      ]
    }
  ]
}