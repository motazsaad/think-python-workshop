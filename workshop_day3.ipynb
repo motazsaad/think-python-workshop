{
  "nbformat": 4,
  "nbformat_minor": 0,
  "metadata": {
    "colab": {
      "name": "workshop_day3.ipynb",
      "provenance": []
    },
    "kernelspec": {
      "name": "python3",
      "display_name": "Python 3"
    },
    "language_info": {
      "name": "python"
    }
  },
  "cells": [
    {
      "cell_type": "markdown",
      "metadata": {
        "id": "SaHbK55eBHhI"
      },
      "source": [
        "# Python Strings "
      ]
    },
    {
      "cell_type": "code",
      "metadata": {
        "id": "_uAMyOzbBEUu"
      },
      "source": [
        "s = 'welcome to python\\n python is cool'"
      ],
      "execution_count": null,
      "outputs": []
    },
    {
      "cell_type": "code",
      "metadata": {
        "colab": {
          "base_uri": "https://localhost:8080/",
          "height": 35
        },
        "id": "xMb4lZGzBVXA",
        "outputId": "273711da-affd-4b4e-8309-eab8dc28cc61"
      },
      "source": [
        "s"
      ],
      "execution_count": null,
      "outputs": [
        {
          "output_type": "execute_result",
          "data": {
            "application/vnd.google.colaboratory.intrinsic+json": {
              "type": "string"
            },
            "text/plain": [
              "'welcome to python\\n python is cool'"
            ]
          },
          "metadata": {
            "tags": []
          },
          "execution_count": 2
        }
      ]
    },
    {
      "cell_type": "code",
      "metadata": {
        "colab": {
          "base_uri": "https://localhost:8080/"
        },
        "id": "wreCHlfDBW2A",
        "outputId": "9ba11109-5314-42aa-de09-b3c3bfce1562"
      },
      "source": [
        "print(s)"
      ],
      "execution_count": null,
      "outputs": [
        {
          "output_type": "stream",
          "text": [
            "welcome to python\n",
            " python is cool\n"
          ],
          "name": "stdout"
        }
      ]
    },
    {
      "cell_type": "code",
      "metadata": {
        "id": "38UJyx9zBa0-"
      },
      "source": [
        "s = 'welcome to python python is cool'"
      ],
      "execution_count": null,
      "outputs": []
    },
    {
      "cell_type": "code",
      "metadata": {
        "colab": {
          "base_uri": "https://localhost:8080/",
          "height": 35
        },
        "id": "gjQAD2IlBfTa",
        "outputId": "013f42d1-ac66-462d-aa70-8b5cde013327"
      },
      "source": [
        "s[0]"
      ],
      "execution_count": null,
      "outputs": [
        {
          "output_type": "execute_result",
          "data": {
            "application/vnd.google.colaboratory.intrinsic+json": {
              "type": "string"
            },
            "text/plain": [
              "'w'"
            ]
          },
          "metadata": {
            "tags": []
          },
          "execution_count": 5
        }
      ]
    },
    {
      "cell_type": "code",
      "metadata": {
        "colab": {
          "base_uri": "https://localhost:8080/",
          "height": 35
        },
        "id": "FLwMrCZUBpBf",
        "outputId": "659641af-bfbc-408e-acd6-e502e9ae7bd8"
      },
      "source": [
        "s[1]"
      ],
      "execution_count": null,
      "outputs": [
        {
          "output_type": "execute_result",
          "data": {
            "application/vnd.google.colaboratory.intrinsic+json": {
              "type": "string"
            },
            "text/plain": [
              "'e'"
            ]
          },
          "metadata": {
            "tags": []
          },
          "execution_count": 9
        }
      ]
    },
    {
      "cell_type": "code",
      "metadata": {
        "colab": {
          "base_uri": "https://localhost:8080/",
          "height": 35
        },
        "id": "Xju4yE_bBhTY",
        "outputId": "fdab5fa8-d24c-4b63-85b7-a4be5788ceb7"
      },
      "source": [
        "s[-1]"
      ],
      "execution_count": null,
      "outputs": [
        {
          "output_type": "execute_result",
          "data": {
            "application/vnd.google.colaboratory.intrinsic+json": {
              "type": "string"
            },
            "text/plain": [
              "'l'"
            ]
          },
          "metadata": {
            "tags": []
          },
          "execution_count": 6
        }
      ]
    },
    {
      "cell_type": "code",
      "metadata": {
        "colab": {
          "base_uri": "https://localhost:8080/",
          "height": 35
        },
        "id": "iEkPC-xpBmJn",
        "outputId": "ccafef29-46f3-4e4f-e0ed-4b317c9829eb"
      },
      "source": [
        "s[-2]"
      ],
      "execution_count": null,
      "outputs": [
        {
          "output_type": "execute_result",
          "data": {
            "application/vnd.google.colaboratory.intrinsic+json": {
              "type": "string"
            },
            "text/plain": [
              "'o'"
            ]
          },
          "metadata": {
            "tags": []
          },
          "execution_count": 8
        }
      ]
    },
    {
      "cell_type": "markdown",
      "metadata": {
        "id": "FRgwpkyNBtx2"
      },
      "source": [
        "## string slicing "
      ]
    },
    {
      "cell_type": "code",
      "metadata": {
        "colab": {
          "base_uri": "https://localhost:8080/",
          "height": 35
        },
        "id": "eG7ck6QRBxRm",
        "outputId": "80a72308-4347-45ec-94a3-30b29c2aad99"
      },
      "source": [
        "s[3:7]"
      ],
      "execution_count": null,
      "outputs": [
        {
          "output_type": "execute_result",
          "data": {
            "application/vnd.google.colaboratory.intrinsic+json": {
              "type": "string"
            },
            "text/plain": [
              "'come'"
            ]
          },
          "metadata": {
            "tags": []
          },
          "execution_count": 10
        }
      ]
    },
    {
      "cell_type": "code",
      "metadata": {
        "colab": {
          "base_uri": "https://localhost:8080/"
        },
        "id": "jiSz3c5VB83Q",
        "outputId": "07e177ee-c8bb-451e-8e26-e3742b0174fd"
      },
      "source": [
        "words = s.split()\n",
        "words"
      ],
      "execution_count": null,
      "outputs": [
        {
          "output_type": "execute_result",
          "data": {
            "text/plain": [
              "['welcome', 'to', 'python', 'python', 'is', 'cool']"
            ]
          },
          "metadata": {
            "tags": []
          },
          "execution_count": 28
        }
      ]
    },
    {
      "cell_type": "code",
      "metadata": {
        "colab": {
          "base_uri": "https://localhost:8080/"
        },
        "id": "s-61dcVhCECo",
        "outputId": "962835e6-2932-4b6d-ff87-ff8f681d518f"
      },
      "source": [
        "for word in words:\n",
        "  if word.startswith('p'):\n",
        "    print(word)"
      ],
      "execution_count": null,
      "outputs": [
        {
          "output_type": "stream",
          "text": [
            "python\n",
            "python\n"
          ],
          "name": "stdout"
        }
      ]
    },
    {
      "cell_type": "code",
      "metadata": {
        "colab": {
          "base_uri": "https://localhost:8080/"
        },
        "id": "aUbUFeWvCS9H",
        "outputId": "3a889e1a-191c-40ff-a979-40f267106f2c"
      },
      "source": [
        "print(dir(s))"
      ],
      "execution_count": null,
      "outputs": [
        {
          "output_type": "stream",
          "text": [
            "['__add__', '__class__', '__contains__', '__delattr__', '__dir__', '__doc__', '__eq__', '__format__', '__ge__', '__getattribute__', '__getitem__', '__getnewargs__', '__gt__', '__hash__', '__init__', '__init_subclass__', '__iter__', '__le__', '__len__', '__lt__', '__mod__', '__mul__', '__ne__', '__new__', '__reduce__', '__reduce_ex__', '__repr__', '__rmod__', '__rmul__', '__setattr__', '__sizeof__', '__str__', '__subclasshook__', 'capitalize', 'casefold', 'center', 'count', 'encode', 'endswith', 'expandtabs', 'find', 'format', 'format_map', 'index', 'isalnum', 'isalpha', 'isascii', 'isdecimal', 'isdigit', 'isidentifier', 'islower', 'isnumeric', 'isprintable', 'isspace', 'istitle', 'isupper', 'join', 'ljust', 'lower', 'lstrip', 'maketrans', 'partition', 'replace', 'rfind', 'rindex', 'rjust', 'rpartition', 'rsplit', 'rstrip', 'split', 'splitlines', 'startswith', 'strip', 'swapcase', 'title', 'translate', 'upper', 'zfill']\n"
          ],
          "name": "stdout"
        }
      ]
    },
    {
      "cell_type": "code",
      "metadata": {
        "colab": {
          "base_uri": "https://localhost:8080/"
        },
        "id": "U_ga290NC12A",
        "outputId": "b409d50a-3bd6-49de-b037-6fd32214ef8c"
      },
      "source": [
        "# loop over chars \n",
        "for char in s:\n",
        "  print(char, end=' ')"
      ],
      "execution_count": null,
      "outputs": [
        {
          "output_type": "stream",
          "text": [
            "w e l c o m e   t o   p y t h o n   p y t h o n   i s   c o o l "
          ],
          "name": "stdout"
        }
      ]
    },
    {
      "cell_type": "code",
      "metadata": {
        "colab": {
          "base_uri": "https://localhost:8080/",
          "height": 35
        },
        "id": "XjWglmqdDEEY",
        "outputId": "32943259-c2e2-470f-dae7-a5643ec12f40"
      },
      "source": [
        "s"
      ],
      "execution_count": null,
      "outputs": [
        {
          "output_type": "execute_result",
          "data": {
            "application/vnd.google.colaboratory.intrinsic+json": {
              "type": "string"
            },
            "text/plain": [
              "'welcome to python python is cool'"
            ]
          },
          "metadata": {
            "tags": []
          },
          "execution_count": 20
        }
      ]
    },
    {
      "cell_type": "code",
      "metadata": {
        "colab": {
          "base_uri": "https://localhost:8080/"
        },
        "id": "7BFBV5w6C-bX",
        "outputId": "152c3401-0712-4084-b8a7-8b503007097c"
      },
      "source": [
        "# loop over words\n",
        "for word in s.split():\n",
        "  print(word)"
      ],
      "execution_count": null,
      "outputs": [
        {
          "output_type": "stream",
          "text": [
            "welcome\n",
            "to\n",
            "python\n",
            "python\n",
            "is\n",
            "cool\n"
          ],
          "name": "stdout"
        }
      ]
    },
    {
      "cell_type": "code",
      "metadata": {
        "colab": {
          "base_uri": "https://localhost:8080/"
        },
        "id": "Q1tyEzizDN4e",
        "outputId": "80554820-c9b4-475b-9679-c2f5c087b85d"
      },
      "source": [
        "'hello'.islower()"
      ],
      "execution_count": null,
      "outputs": [
        {
          "output_type": "execute_result",
          "data": {
            "text/plain": [
              "True"
            ]
          },
          "metadata": {
            "tags": []
          },
          "execution_count": 22
        }
      ]
    },
    {
      "cell_type": "code",
      "metadata": {
        "colab": {
          "base_uri": "https://localhost:8080/",
          "height": 35
        },
        "id": "fMUUSrdyDROY",
        "outputId": "3e5aa869-aa4b-467f-b1f0-a51c374c7402"
      },
      "source": [
        "'hello'.upper()"
      ],
      "execution_count": null,
      "outputs": [
        {
          "output_type": "execute_result",
          "data": {
            "application/vnd.google.colaboratory.intrinsic+json": {
              "type": "string"
            },
            "text/plain": [
              "'HELLO'"
            ]
          },
          "metadata": {
            "tags": []
          },
          "execution_count": 23
        }
      ]
    },
    {
      "cell_type": "markdown",
      "metadata": {
        "id": "gxqy44g3Df3P"
      },
      "source": [
        "# Python Collection \n",
        "\n",
        "a collection is a set of values stored in one variable \n",
        "\n",
        "\n",
        "* lists\n",
        "* tuples\n",
        "* dictionary \n",
        "* sets "
      ]
    },
    {
      "cell_type": "code",
      "metadata": {
        "colab": {
          "base_uri": "https://localhost:8080/"
        },
        "id": "_wqwN66uDnN_",
        "outputId": "d3469624-db9d-4099-aa48-d48ef094e3b1"
      },
      "source": [
        "x = 10 \n",
        "print(x)\n",
        "x = 12 \n",
        "print(x)"
      ],
      "execution_count": null,
      "outputs": [
        {
          "output_type": "stream",
          "text": [
            "10\n",
            "12\n"
          ],
          "name": "stdout"
        }
      ]
    },
    {
      "cell_type": "code",
      "metadata": {
        "id": "RSQe38_FDx2z"
      },
      "source": [
        "alist = [10, 12]"
      ],
      "execution_count": null,
      "outputs": []
    },
    {
      "cell_type": "code",
      "metadata": {
        "colab": {
          "base_uri": "https://localhost:8080/"
        },
        "id": "0RaSl-_PD2Za",
        "outputId": "ef4074e4-18b3-4fd1-be61-7e898cf5e9d3"
      },
      "source": [
        "alist"
      ],
      "execution_count": null,
      "outputs": [
        {
          "output_type": "execute_result",
          "data": {
            "text/plain": [
              "[10, 12]"
            ]
          },
          "metadata": {
            "tags": []
          },
          "execution_count": 26
        }
      ]
    },
    {
      "cell_type": "code",
      "metadata": {
        "id": "_XUFCPzaEK9t"
      },
      "source": [
        "my_list = [9, 2.7, True, 'abc']"
      ],
      "execution_count": null,
      "outputs": []
    },
    {
      "cell_type": "code",
      "metadata": {
        "colab": {
          "base_uri": "https://localhost:8080/"
        },
        "id": "XpC2EoYPEZ51",
        "outputId": "0edbba31-9996-49d4-ca22-f19d1615a507"
      },
      "source": [
        "print(dir(my_list))"
      ],
      "execution_count": null,
      "outputs": [
        {
          "output_type": "stream",
          "text": [
            "['__add__', '__class__', '__contains__', '__delattr__', '__delitem__', '__dir__', '__doc__', '__eq__', '__format__', '__ge__', '__getattribute__', '__getitem__', '__gt__', '__hash__', '__iadd__', '__imul__', '__init__', '__init_subclass__', '__iter__', '__le__', '__len__', '__lt__', '__mul__', '__ne__', '__new__', '__reduce__', '__reduce_ex__', '__repr__', '__reversed__', '__rmul__', '__setattr__', '__setitem__', '__sizeof__', '__str__', '__subclasshook__', 'append', 'clear', 'copy', 'count', 'extend', 'index', 'insert', 'pop', 'remove', 'reverse', 'sort']\n"
          ],
          "name": "stdout"
        }
      ]
    },
    {
      "cell_type": "code",
      "metadata": {
        "colab": {
          "base_uri": "https://localhost:8080/"
        },
        "id": "nI5Zv7L1ErnX",
        "outputId": "21e9eebd-fb0e-411a-e69c-8d6c31fdf266"
      },
      "source": [
        "[ func for func in dir([]) if func[0] != '_' ]"
      ],
      "execution_count": null,
      "outputs": [
        {
          "output_type": "execute_result",
          "data": {
            "text/plain": [
              "['append',\n",
              " 'clear',\n",
              " 'copy',\n",
              " 'count',\n",
              " 'extend',\n",
              " 'index',\n",
              " 'insert',\n",
              " 'pop',\n",
              " 'remove',\n",
              " 'reverse',\n",
              " 'sort']"
            ]
          },
          "metadata": {
            "tags": []
          },
          "execution_count": 30
        }
      ]
    },
    {
      "cell_type": "code",
      "metadata": {
        "id": "_KuGTLtHFXQr"
      },
      "source": [
        "my_list.append(13)"
      ],
      "execution_count": null,
      "outputs": []
    },
    {
      "cell_type": "code",
      "metadata": {
        "colab": {
          "base_uri": "https://localhost:8080/"
        },
        "id": "b8PLDv7pFavQ",
        "outputId": "f52b14ff-6f57-4f63-bb8e-11d8cf77b798"
      },
      "source": [
        "my_list"
      ],
      "execution_count": null,
      "outputs": [
        {
          "output_type": "execute_result",
          "data": {
            "text/plain": [
              "[9, 2.7, True, 'abc', 13]"
            ]
          },
          "metadata": {
            "tags": []
          },
          "execution_count": 32
        }
      ]
    },
    {
      "cell_type": "markdown",
      "metadata": {
        "id": "eaDboNyIFvem"
      },
      "source": [
        "# Tuples \n",
        "\n",
        "tuples is an imputable list, it has a faster memory access "
      ]
    },
    {
      "cell_type": "code",
      "metadata": {
        "id": "NGSfuiScF97H"
      },
      "source": [
        "list1 = [1, 2, 3]\n",
        "tuple1 = (1, 2, 3)"
      ],
      "execution_count": null,
      "outputs": []
    },
    {
      "cell_type": "code",
      "metadata": {
        "colab": {
          "base_uri": "https://localhost:8080/"
        },
        "id": "4g895vO-GFXg",
        "outputId": "7fd9461e-c51d-4c70-bf4b-5dc24b3134b4"
      },
      "source": [
        "[ func for func in dir(()) if func[0] != '_' ]"
      ],
      "execution_count": null,
      "outputs": [
        {
          "output_type": "execute_result",
          "data": {
            "text/plain": [
              "['count', 'index']"
            ]
          },
          "metadata": {
            "tags": []
          },
          "execution_count": 34
        }
      ]
    },
    {
      "cell_type": "markdown",
      "metadata": {
        "id": "OqeIBtdpGXYO"
      },
      "source": [
        "# Dictionary \n",
        "\n",
        "* key as index \n",
        "* value "
      ]
    },
    {
      "cell_type": "code",
      "metadata": {
        "id": "ZtWK3O5iGhMR"
      },
      "source": [
        "person = ['Ahmed', 'EE', 85.7]"
      ],
      "execution_count": null,
      "outputs": []
    },
    {
      "cell_type": "code",
      "metadata": {
        "colab": {
          "base_uri": "https://localhost:8080/"
        },
        "id": "ojCCxzQSGvKv",
        "outputId": "568f3739-9d87-4422-9c63-69e7b1ebaac3"
      },
      "source": [
        "print('name: ', person[0])"
      ],
      "execution_count": null,
      "outputs": [
        {
          "output_type": "stream",
          "text": [
            "name:  Ahmed\n"
          ],
          "name": "stdout"
        }
      ]
    },
    {
      "cell_type": "code",
      "metadata": {
        "id": "1BeYIH6vG620"
      },
      "source": [
        "# [] for list\n",
        "# () for tuples\n",
        "# {} for dictionary \n",
        "\n",
        "# dict: {k1:v1, k2: v2, .......}\n",
        "Person = {'name': 'Ahmed', 'Dept': 'EE', 'GPA': 85.7}"
      ],
      "execution_count": null,
      "outputs": []
    },
    {
      "cell_type": "code",
      "metadata": {
        "colab": {
          "base_uri": "https://localhost:8080/"
        },
        "id": "0D9Z3PGOHY1i",
        "outputId": "208d6611-a78c-4a85-a8cd-1626779d4a73"
      },
      "source": [
        "print('Student Name:', Person['name'])"
      ],
      "execution_count": null,
      "outputs": [
        {
          "output_type": "stream",
          "text": [
            "Student Name: Ahmed\n"
          ],
          "name": "stdout"
        }
      ]
    },
    {
      "cell_type": "code",
      "metadata": {
        "colab": {
          "base_uri": "https://localhost:8080/"
        },
        "id": "ITf_5QoNHksi",
        "outputId": "81014af8-81a3-490f-9e5b-4dc7625cc58f"
      },
      "source": [
        "Person.get('GPA')"
      ],
      "execution_count": null,
      "outputs": [
        {
          "output_type": "execute_result",
          "data": {
            "text/plain": [
              "85.7"
            ]
          },
          "metadata": {
            "tags": []
          },
          "execution_count": 41
        }
      ]
    },
    {
      "cell_type": "code",
      "metadata": {
        "colab": {
          "base_uri": "https://localhost:8080/"
        },
        "id": "KCg9AkRBHoWY",
        "outputId": "ca653638-21df-4d30-ac1d-8bbc1c5a555f"
      },
      "source": [
        "Person['GPA']"
      ],
      "execution_count": null,
      "outputs": [
        {
          "output_type": "execute_result",
          "data": {
            "text/plain": [
              "85.7"
            ]
          },
          "metadata": {
            "tags": []
          },
          "execution_count": 42
        }
      ]
    },
    {
      "cell_type": "code",
      "metadata": {
        "colab": {
          "base_uri": "https://localhost:8080/"
        },
        "id": "VmBxOiHWHvr3",
        "outputId": "ff82c678-ce17-4b38-e07f-11507df3b9bc"
      },
      "source": [
        "[ func for func in dir(dict()) if func[0] != '_']"
      ],
      "execution_count": null,
      "outputs": [
        {
          "output_type": "execute_result",
          "data": {
            "text/plain": [
              "['clear',\n",
              " 'copy',\n",
              " 'fromkeys',\n",
              " 'get',\n",
              " 'items',\n",
              " 'keys',\n",
              " 'pop',\n",
              " 'popitem',\n",
              " 'setdefault',\n",
              " 'update',\n",
              " 'values']"
            ]
          },
          "metadata": {
            "tags": []
          },
          "execution_count": 44
        }
      ]
    },
    {
      "cell_type": "code",
      "metadata": {
        "colab": {
          "base_uri": "https://localhost:8080/"
        },
        "id": "WBMb8cbhH_vl",
        "outputId": "9e84498e-61e3-4909-d392-a515f958b54f"
      },
      "source": [
        "Person.items()"
      ],
      "execution_count": null,
      "outputs": [
        {
          "output_type": "execute_result",
          "data": {
            "text/plain": [
              "dict_items([('name', 'Ahmed'), ('Dept', 'EE'), ('GPA', 85.7)])"
            ]
          },
          "metadata": {
            "tags": []
          },
          "execution_count": 45
        }
      ]
    },
    {
      "cell_type": "code",
      "metadata": {
        "colab": {
          "base_uri": "https://localhost:8080/"
        },
        "id": "pbSYjyvpIHSa",
        "outputId": "0ba45efa-6ccc-49db-c285-4950f30e6b13"
      },
      "source": [
        "Person.keys()"
      ],
      "execution_count": null,
      "outputs": [
        {
          "output_type": "execute_result",
          "data": {
            "text/plain": [
              "dict_keys(['name', 'Dept', 'GPA'])"
            ]
          },
          "metadata": {
            "tags": []
          },
          "execution_count": 46
        }
      ]
    },
    {
      "cell_type": "code",
      "metadata": {
        "colab": {
          "base_uri": "https://localhost:8080/"
        },
        "id": "EDRjynMyIKfk",
        "outputId": "2c5e1e53-339f-4979-d98b-f9ee9ff3a07e"
      },
      "source": [
        "Person.values()"
      ],
      "execution_count": null,
      "outputs": [
        {
          "output_type": "execute_result",
          "data": {
            "text/plain": [
              "dict_values(['Ahmed', 'EE', 85.7])"
            ]
          },
          "metadata": {
            "tags": []
          },
          "execution_count": 47
        }
      ]
    },
    {
      "cell_type": "code",
      "metadata": {
        "colab": {
          "base_uri": "https://localhost:8080/"
        },
        "id": "pY8eSoAKIOYg",
        "outputId": "ef775b59-635a-4767-9e4a-8253768c836f"
      },
      "source": [
        "for k, v in Person.items():\n",
        "  print(k, ':\\t', v)"
      ],
      "execution_count": null,
      "outputs": [
        {
          "output_type": "stream",
          "text": [
            "name :\t Ahmed\n",
            "Dept :\t EE\n",
            "GPA :\t 85.7\n"
          ],
          "name": "stdout"
        }
      ]
    },
    {
      "cell_type": "markdown",
      "metadata": {
        "id": "jbtlFoQcI_rU"
      },
      "source": [
        "# Sets \n",
        "\n",
        "a set is like a list but without redundacy "
      ]
    },
    {
      "cell_type": "code",
      "metadata": {
        "colab": {
          "base_uri": "https://localhost:8080/"
        },
        "id": "n4XCQbf0JHVY",
        "outputId": "3cbead91-ed36-417a-fa52-9bfda83b0e35"
      },
      "source": [
        "set1 = {'Sat', 'Sun', 'Mod'}\n",
        "set1"
      ],
      "execution_count": null,
      "outputs": [
        {
          "output_type": "execute_result",
          "data": {
            "text/plain": [
              "{'Mod', 'Sat', 'Sun'}"
            ]
          },
          "metadata": {
            "tags": []
          },
          "execution_count": 50
        }
      ]
    },
    {
      "cell_type": "code",
      "metadata": {
        "colab": {
          "base_uri": "https://localhost:8080/"
        },
        "id": "l-C28tz3JRBI",
        "outputId": "9250b99a-8f29-495e-ff17-e879968e3c51"
      },
      "source": [
        "set1.add('Sat')\n",
        "set1"
      ],
      "execution_count": null,
      "outputs": [
        {
          "output_type": "execute_result",
          "data": {
            "text/plain": [
              "{'Mod', 'Sat', 'Sun'}"
            ]
          },
          "metadata": {
            "tags": []
          },
          "execution_count": 52
        }
      ]
    },
    {
      "cell_type": "code",
      "metadata": {
        "colab": {
          "base_uri": "https://localhost:8080/"
        },
        "id": "1mgr4YtyJekI",
        "outputId": "cb21f86f-4ae3-40cd-c88e-9cc7291ea97c"
      },
      "source": [
        "set1.add('Wed')\n",
        "set1"
      ],
      "execution_count": null,
      "outputs": [
        {
          "output_type": "execute_result",
          "data": {
            "text/plain": [
              "{'Mod', 'Sat', 'Sun', 'Wed'}"
            ]
          },
          "metadata": {
            "tags": []
          },
          "execution_count": 53
        }
      ]
    },
    {
      "cell_type": "markdown",
      "metadata": {
        "id": "eu5C91wCJsbI"
      },
      "source": [
        "# Files "
      ]
    },
    {
      "cell_type": "code",
      "metadata": {
        "id": "5XV7f4tPJrzw"
      },
      "source": [
        "file_handle = open('/content/sample_data/README.md', mode='r', encoding='utf-8')"
      ],
      "execution_count": null,
      "outputs": []
    },
    {
      "cell_type": "code",
      "metadata": {
        "colab": {
          "base_uri": "https://localhost:8080/"
        },
        "id": "rba0yC9bJnAv",
        "outputId": "8d4869ad-2445-4f5b-81cf-c5b596ef2edc"
      },
      "source": [
        "file_handle"
      ],
      "execution_count": null,
      "outputs": [
        {
          "output_type": "execute_result",
          "data": {
            "text/plain": [
              "<_io.TextIOWrapper name='/content/sample_data/README.md' mode='r' encoding='utf-8'>"
            ]
          },
          "metadata": {
            "tags": []
          },
          "execution_count": 55
        }
      ]
    },
    {
      "cell_type": "code",
      "metadata": {
        "id": "fqpiNJYwJ_QQ"
      },
      "source": [
        "text = file_handle.read()"
      ],
      "execution_count": null,
      "outputs": []
    },
    {
      "cell_type": "code",
      "metadata": {
        "colab": {
          "base_uri": "https://localhost:8080/"
        },
        "id": "VbSNl4VqKC56",
        "outputId": "80a1250f-c003-4f52-ad70-66d7e3430677"
      },
      "source": [
        "print(text)"
      ],
      "execution_count": null,
      "outputs": [
        {
          "output_type": "stream",
          "text": [
            "This directory includes a few sample datasets to get you started.\n",
            "\n",
            "*   `california_housing_data*.csv` is California housing data from the 1990 US\n",
            "    Census; more information is available at:\n",
            "    https://developers.google.com/machine-learning/crash-course/california-housing-data-description\n",
            "\n",
            "*   `mnist_*.csv` is a small sample of the\n",
            "    [MNIST database](https://en.wikipedia.org/wiki/MNIST_database), which is\n",
            "    described at: http://yann.lecun.com/exdb/mnist/\n",
            "\n",
            "*   `anscombe.json` contains a copy of\n",
            "    [Anscombe's quartet](https://en.wikipedia.org/wiki/Anscombe%27s_quartet); it\n",
            "    was originally described in\n",
            "\n",
            "    Anscombe, F. J. (1973). 'Graphs in Statistical Analysis'. American\n",
            "    Statistician. 27 (1): 17-21. JSTOR 2682899.\n",
            "\n",
            "    and our copy was prepared by the\n",
            "    [vega_datasets library](https://github.com/altair-viz/vega_datasets/blob/4f67bdaad10f45e3549984e17e1b3088c731503d/vega_datasets/_data/anscombe.json).\n",
            "\n"
          ],
          "name": "stdout"
        }
      ]
    },
    {
      "cell_type": "code",
      "metadata": {
        "colab": {
          "base_uri": "https://localhost:8080/"
        },
        "id": "Di_2Rv4gKIII",
        "outputId": "62f06ee6-38b7-41d8-bca4-65df29222a75"
      },
      "source": [
        "text = open('./sample_data/README.md').read()\n",
        "print(text)"
      ],
      "execution_count": null,
      "outputs": [
        {
          "output_type": "stream",
          "text": [
            "This directory includes a few sample datasets to get you started.\n",
            "\n",
            "*   `california_housing_data*.csv` is California housing data from the 1990 US\n",
            "    Census; more information is available at:\n",
            "    https://developers.google.com/machine-learning/crash-course/california-housing-data-description\n",
            "\n",
            "*   `mnist_*.csv` is a small sample of the\n",
            "    [MNIST database](https://en.wikipedia.org/wiki/MNIST_database), which is\n",
            "    described at: http://yann.lecun.com/exdb/mnist/\n",
            "\n",
            "*   `anscombe.json` contains a copy of\n",
            "    [Anscombe's quartet](https://en.wikipedia.org/wiki/Anscombe%27s_quartet); it\n",
            "    was originally described in\n",
            "\n",
            "    Anscombe, F. J. (1973). 'Graphs in Statistical Analysis'. American\n",
            "    Statistician. 27 (1): 17-21. JSTOR 2682899.\n",
            "\n",
            "    and our copy was prepared by the\n",
            "    [vega_datasets library](https://github.com/altair-viz/vega_datasets/blob/4f67bdaad10f45e3549984e17e1b3088c731503d/vega_datasets/_data/anscombe.json).\n",
            "\n"
          ],
          "name": "stdout"
        }
      ]
    },
    {
      "cell_type": "code",
      "metadata": {
        "colab": {
          "base_uri": "https://localhost:8080/"
        },
        "id": "azwb5qbpKUmx",
        "outputId": "1149c5ff-cf9b-48b0-ff1f-eef832d9ef5c"
      },
      "source": [
        "text.split('\\n')"
      ],
      "execution_count": null,
      "outputs": [
        {
          "output_type": "execute_result",
          "data": {
            "text/plain": [
              "['This directory includes a few sample datasets to get you started.',\n",
              " '',\n",
              " '*   `california_housing_data*.csv` is California housing data from the 1990 US',\n",
              " '    Census; more information is available at:',\n",
              " '    https://developers.google.com/machine-learning/crash-course/california-housing-data-description',\n",
              " '',\n",
              " '*   `mnist_*.csv` is a small sample of the',\n",
              " '    [MNIST database](https://en.wikipedia.org/wiki/MNIST_database), which is',\n",
              " '    described at: http://yann.lecun.com/exdb/mnist/',\n",
              " '',\n",
              " '*   `anscombe.json` contains a copy of',\n",
              " \"    [Anscombe's quartet](https://en.wikipedia.org/wiki/Anscombe%27s_quartet); it\",\n",
              " '    was originally described in',\n",
              " '',\n",
              " \"    Anscombe, F. J. (1973). 'Graphs in Statistical Analysis'. American\",\n",
              " '    Statistician. 27 (1): 17-21. JSTOR 2682899.',\n",
              " '',\n",
              " '    and our copy was prepared by the',\n",
              " '    [vega_datasets library](https://github.com/altair-viz/vega_datasets/blob/4f67bdaad10f45e3549984e17e1b3088c731503d/vega_datasets/_data/anscombe.json).',\n",
              " '']"
            ]
          },
          "metadata": {
            "tags": []
          },
          "execution_count": 59
        }
      ]
    },
    {
      "cell_type": "code",
      "metadata": {
        "colab": {
          "base_uri": "https://localhost:8080/"
        },
        "id": "jBz61R94KiXI",
        "outputId": "647156e9-431c-464f-969e-6edbf5f76f62"
      },
      "source": [
        "len(text.split('\\n'))"
      ],
      "execution_count": null,
      "outputs": [
        {
          "output_type": "execute_result",
          "data": {
            "text/plain": [
              "20"
            ]
          },
          "metadata": {
            "tags": []
          },
          "execution_count": 60
        }
      ]
    },
    {
      "cell_type": "code",
      "metadata": {
        "id": "5xnL7F68KyeJ"
      },
      "source": [
        "file_writer = open('test.txt', mode='w')"
      ],
      "execution_count": null,
      "outputs": []
    },
    {
      "cell_type": "code",
      "metadata": {
        "colab": {
          "base_uri": "https://localhost:8080/"
        },
        "id": "1xhClE04K-uq",
        "outputId": "96f4a57f-883c-4dee-8b89-5b1ff4c994b2"
      },
      "source": [
        "file_writer.write('hello')"
      ],
      "execution_count": null,
      "outputs": [
        {
          "output_type": "execute_result",
          "data": {
            "text/plain": [
              "5"
            ]
          },
          "metadata": {
            "tags": []
          },
          "execution_count": 65
        }
      ]
    },
    {
      "cell_type": "code",
      "metadata": {
        "colab": {
          "base_uri": "https://localhost:8080/"
        },
        "id": "e0b5nYTwLims",
        "outputId": "b84be4a7-a6fd-4d56-bc59-ac472bf7cd26"
      },
      "source": [
        "file_writer.write('\\n hello again \\n')"
      ],
      "execution_count": null,
      "outputs": [
        {
          "output_type": "execute_result",
          "data": {
            "text/plain": [
              "15"
            ]
          },
          "metadata": {
            "tags": []
          },
          "execution_count": 66
        }
      ]
    },
    {
      "cell_type": "code",
      "metadata": {
        "id": "kx1KxS_uLt7h"
      },
      "source": [
        "file_writer.close()"
      ],
      "execution_count": null,
      "outputs": []
    },
    {
      "cell_type": "markdown",
      "metadata": {
        "id": "Ge9hmF5YL8F5"
      },
      "source": [
        "# Objects in Python \n",
        "\n",
        "think in everything as an object that has:\n",
        "1. attributes \n",
        "2. behavior (functions / actions) "
      ]
    },
    {
      "cell_type": "code",
      "metadata": {
        "id": "RmtiEy1kMBAg"
      },
      "source": [
        "# Pen \n",
        "\n",
        "class Pen:\n",
        "  def __init__(self, color, pen_type, pen_size):\n",
        "    self.color = color\n",
        "    self.pen_type = pen_type\n",
        "    self.pen_size = pen_size \n",
        "  \n",
        "  def write(self):\n",
        "    print('I am writing ...')\n",
        "\n",
        "  def draw(self):\n",
        "    print('I am drawing')\n",
        "  "
      ],
      "execution_count": null,
      "outputs": []
    },
    {
      "cell_type": "code",
      "metadata": {
        "id": "hMe7cWGGNRjD"
      },
      "source": [
        "pen1 = Pen(color='grey', pen_type='penci', pen_size=0.7)"
      ],
      "execution_count": null,
      "outputs": []
    },
    {
      "cell_type": "code",
      "metadata": {
        "colab": {
          "base_uri": "https://localhost:8080/"
        },
        "id": "w-b4J6y7NniS",
        "outputId": "4e52940a-ff55-4565-dab2-9814ffb0fbfa"
      },
      "source": [
        "pen1.write()"
      ],
      "execution_count": null,
      "outputs": [
        {
          "output_type": "stream",
          "text": [
            "I am writing ...\n"
          ],
          "name": "stdout"
        }
      ]
    },
    {
      "cell_type": "code",
      "metadata": {
        "colab": {
          "base_uri": "https://localhost:8080/"
        },
        "id": "iDIlyN5INsND",
        "outputId": "a787641a-3ce6-4ad3-b75f-9fbb9263df96"
      },
      "source": [
        "pen1.draw()"
      ],
      "execution_count": null,
      "outputs": [
        {
          "output_type": "stream",
          "text": [
            "I am drawing\n"
          ],
          "name": "stdout"
        }
      ]
    },
    {
      "cell_type": "code",
      "metadata": {
        "colab": {
          "base_uri": "https://localhost:8080/"
        },
        "id": "h7zB9cgpO9cL",
        "outputId": "5ddb848c-7eb4-4606-8241-0a9625b08e13"
      },
      "source": [
        "print(pen1)"
      ],
      "execution_count": null,
      "outputs": [
        {
          "output_type": "stream",
          "text": [
            "<__main__.Pen object at 0x7f2964a3a1d0>\n"
          ],
          "name": "stdout"
        }
      ]
    },
    {
      "cell_type": "code",
      "metadata": {
        "id": "g8bNzPozNuWR"
      },
      "source": [
        "class Person:\n",
        "  def __init__(self, name, gender):\n",
        "    self.name = name\n",
        "    self.gender = gender \n",
        "\n",
        "  def walk(self):\n",
        "    print('hello, I am', self.name, ', I am walking .....')\n",
        "  \n",
        "  def eat(self):\n",
        "    print('hello, I am', self.name, ', I am eating .....')\n",
        "\n",
        "\n",
        "  def __str__(self):\n",
        "    return 'Name: {}\\tGender: {}'.format(self.name, self.gender)"
      ],
      "execution_count": null,
      "outputs": []
    },
    {
      "cell_type": "code",
      "metadata": {
        "colab": {
          "base_uri": "https://localhost:8080/"
        },
        "id": "okerRzFlOP3E",
        "outputId": "295718fd-3dbc-4ac1-8cbf-c00ed7f24e8c"
      },
      "source": [
        "p1 = Person(name='Ahmed', gender='M')\n",
        "print(p1)\n"
      ],
      "execution_count": null,
      "outputs": [
        {
          "output_type": "stream",
          "text": [
            "Name: Ahmed\tGender: M\n"
          ],
          "name": "stdout"
        }
      ]
    },
    {
      "cell_type": "code",
      "metadata": {
        "colab": {
          "base_uri": "https://localhost:8080/"
        },
        "id": "UHTP5cj1PLoC",
        "outputId": "dd9fcae3-6e2b-40dd-9b93-4ec38607c550"
      },
      "source": [
        "p1.walk()\n",
        "p1.eat()"
      ],
      "execution_count": null,
      "outputs": [
        {
          "output_type": "stream",
          "text": [
            "hello, I am Ahmed , I am walking .....\n",
            "hello, I am Ahmed , I am eating .....\n"
          ],
          "name": "stdout"
        }
      ]
    },
    {
      "cell_type": "code",
      "metadata": {
        "colab": {
          "base_uri": "https://localhost:8080/"
        },
        "id": "jlS62NWhRLZH",
        "outputId": "3dfc8cf7-3bd8-479d-a012-56b1c5243909"
      },
      "source": [
        "! pip install electricpy "
      ],
      "execution_count": null,
      "outputs": [
        {
          "output_type": "stream",
          "text": [
            "Collecting electricpy\n",
            "  Downloading electricpy-0.2.0-py3-none-any.whl (80 kB)\n",
            "\u001b[?25l\r\u001b[K     |████                            | 10 kB 24.0 MB/s eta 0:00:01\r\u001b[K     |████████▏                       | 20 kB 29.7 MB/s eta 0:00:01\r\u001b[K     |████████████▏                   | 30 kB 30.5 MB/s eta 0:00:01\r\u001b[K     |████████████████▎               | 40 kB 32.2 MB/s eta 0:00:01\r\u001b[K     |████████████████████▍           | 51 kB 33.9 MB/s eta 0:00:01\r\u001b[K     |████████████████████████▍       | 61 kB 37.2 MB/s eta 0:00:01\r\u001b[K     |████████████████████████████▌   | 71 kB 29.1 MB/s eta 0:00:01\r\u001b[K     |████████████████████████████████| 80 kB 8.2 MB/s \n",
            "\u001b[?25hInstalling collected packages: electricpy\n",
            "Successfully installed electricpy-0.2.0\n"
          ],
          "name": "stdout"
        }
      ]
    },
    {
      "cell_type": "code",
      "metadata": {
        "id": "iXeqYOj8RSEk",
        "colab": {
          "base_uri": "https://localhost:8080/",
          "height": 35
        },
        "outputId": "fa20977f-5efa-4d73-d090-b6438e6ae3da"
      },
      "source": [
        "import electricpy\n",
        "electricpy._version_\n"
      ],
      "execution_count": null,
      "outputs": [
        {
          "output_type": "execute_result",
          "data": {
            "application/vnd.google.colaboratory.intrinsic+json": {
              "type": "string"
            },
            "text/plain": [
              "'0.2.0'"
            ]
          },
          "metadata": {
            "tags": []
          },
          "execution_count": 82
        }
      ]
    }
  ]
}